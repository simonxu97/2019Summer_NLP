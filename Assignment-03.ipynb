{
 "cells": [
  {
   "cell_type": "markdown",
   "metadata": {},
   "source": [
    "## Lecture-03 Gradient Descent and Dymanic Programming"
   ]
  },
  {
   "cell_type": "markdown",
   "metadata": {},
   "source": [
    "In this week, we need complete following tasks:\n",
    "+ Re-review the course online programming; \n",
    "+ Choose 1 - 2 books which you interested and keep reading; \n",
    "+ Answer the review questions\n",
    "+ Prepare the basic requirement of our 1st project. "
   ]
  },
  {
   "cell_type": "markdown",
   "metadata": {},
   "source": [
    "### Part I Review the online programming. "
   ]
  },
  {
   "cell_type": "markdown",
   "metadata": {},
   "source": [
    "### Part 2: change loss function from $loss = \\frac{1}{n}\\sum{(y_i - \\hat(y_i))^2}$ to $loss = \\frac{1}{n}\\sum{|y_i - \\hat{y_i}|}$, and using your mathmatical knowledge to get the right partial formual. Implemen the gradient descent code."
   ]
  },
  {
   "cell_type": "code",
   "execution_count": 21,
   "metadata": {},
   "outputs": [],
   "source": [
    "# 数据采集\n",
    "from sklearn.datasets import load_boston\n",
    "import random\n",
    "import matplotlib.pyplot as plt\n",
    "import numpy as np\n",
    "import matplotlib.pyplot as plt\n",
    "\n",
    "data = load_boston()\n",
    "X, y = data['data'], data['target']\n",
    "X_rm = X[:, 5]\n",
    "feature = data['feature_names']"
   ]
  },
  {
   "cell_type": "code",
   "execution_count": 15,
   "metadata": {},
   "outputs": [],
   "source": [
    "def price(rm, k, b):\n",
    "    return rm * k + b\n",
    "\n",
    "def mae(prediction, y):\n",
    "    return sum(abs(y1 - y2) for y1, y2 in zip(list(prediction), list(y))) / len(y)"
   ]
  },
  {
   "cell_type": "code",
   "execution_count": 23,
   "metadata": {},
   "outputs": [],
   "source": [
    "def gd(X_rm, y, loss, trying_times):\n",
    "    ans = []\n",
    "    min_loss = float('inf')\n",
    "    current_k = random.random() * 200 - 100\n",
    "    current_b = random.random() * 200 - 100\n",
    "    best_k = 0\n",
    "    best_b = 0\n",
    "    scalar = 0.001\n",
    "    for i in range(trying_times):\n",
    "        price_by_k_and_b = [price(r, current_k, current_b) for r in X_rm]\n",
    "        current_loss = loss(y, price_by_k_and_b)\n",
    "        if current_loss < min_loss:\n",
    "            best_k = current_k\n",
    "            best_b = current_b\n",
    "            min_loss = current_loss\n",
    "            ans.append(min_loss)\n",
    "            print('When time is : {}, get_best k is : {}, get_best b is : {}, and loss is : {}'.format(i, best_k, best_b, min_loss))\n",
    "        current_k = current_k - scalar * sum([price(r, current_k, current_b) * r for r in X_rm]) / len(y)\n",
    "        current_b = current_b - scalar * 2 * sum([price(r, current_k, current_b) for r in X_rm]) / len(y)\n",
    "    return ans"
   ]
  },
  {
   "cell_type": "code",
   "execution_count": 24,
   "metadata": {},
   "outputs": [
    {
     "name": "stdout",
     "output_type": "stream",
     "text": [
      "When time is : 0, get_best k is : 22.3303175966806, get_best b is : 81.07893178383537, and loss is : 198.88400730831037\n",
      "When time is : 1, get_best k is : 20.92779183513389, get_best b is : 80.65372687983086, and loss is : 189.64444077414237\n",
      "When time is : 2, get_best k is : 19.58402438888524, get_best b is : 80.24626255983695, and loss is : 180.7918893528505\n",
      "When time is : 3, get_best k is : 18.296554059507002, get_best b is : 79.85579572909243, and loss is : 172.3101422174003\n",
      "When time is : 4, get_best k is : 17.06302274031323, get_best b is : 79.48161441870238, and loss is : 164.1836675605297\n",
      "When time is : 5, get_best k is : 15.881171098175882, get_best b is : 79.12303648187495, and loss is : 156.39758415277768\n",
      "When time is : 6, get_best k is : 14.74883443621594, get_best b is : 78.7794083447688, and loss is : 148.93763409185885\n",
      "When time is : 7, get_best k is : 13.663938729793172, get_best b is : 78.4501038096634, and loss is : 141.79015669347876\n",
      "When time is : 8, get_best k is : 12.624496828535637, get_best b is : 78.13452290826082, and loss is : 134.94206347577878\n",
      "When time is : 9, get_best k is : 11.628604817454043, get_best b is : 77.8320908030189, and loss is : 128.38081419160437\n",
      "When time is : 10, get_best k is : 10.6744385304774, get_best b is : 77.54225673450424, and loss is : 122.09439386470466\n",
      "When time is : 11, get_best k is : 9.760250210025523, get_best b is : 77.26449301283706, and loss is : 116.07129078781006\n",
      "When time is : 12, get_best k is : 8.884365306501392, get_best b is : 76.99829405138132, and loss is : 110.3004754423044\n",
      "When time is : 13, get_best k is : 8.045179411842529, get_best b is : 76.7431754409104, and loss is : 104.77138030087983\n",
      "When time is : 14, get_best k is : 7.241155321516144, get_best b is : 76.49867306255307, and loss is : 99.4738804761981\n",
      "When time is : 15, get_best k is : 6.470820219577901, get_best b is : 76.2643422378953, and loss is : 94.3982751801151\n",
      "When time is : 16, get_best k is : 5.732762981639589, get_best b is : 76.03975691468162, and loss is : 89.53526995952049\n",
      "When time is : 17, get_best k is : 5.02563159080686, get_best b is : 75.82450888662476, and loss is : 84.87595967626027\n",
      "When time is : 18, get_best k is : 4.3481306618550875, get_best b is : 75.61820704589512, and loss is : 80.41181219997758\n",
      "When time is : 19, get_best k is : 3.699019069109589, get_best b is : 75.42047666692093, and loss is : 76.13465278400635\n",
      "When time is : 20, get_best k is : 3.077107673686368, get_best b is : 75.23095872018783, and loss is : 72.03664909571056\n",
      "When time is : 21, get_best k is : 2.4812571459314867, get_best b is : 75.04930921478109, and loss is : 68.11029687385376\n",
      "When time is : 22, get_best k is : 1.9103758790714953, get_best b is : 74.87519856846677, and loss is : 64.34840618673617\n",
      "When time is : 23, get_best k is : 1.3634179902543813, get_best b is : 74.70831100415806, and loss is : 60.74408826593415\n",
      "When time is : 24, get_best k is : 0.8393814053205334, get_best b is : 74.54834397166178, and loss is : 57.29074289153215\n",
      "When time is : 25, get_best k is : 0.33730602379652785, get_best b is : 74.39500759364603, and loss is : 53.98204630574791\n",
      "When time is : 26, get_best k is : -0.14372803924853095, get_best b is : 74.24802413481451, and loss is : 50.81193963281584\n",
      "When time is : 27, get_best k is : -0.6046021377036502, get_best b is : 74.10712749331545, and loss is : 47.77461778392599\n",
      "When time is : 28, get_best k is : -1.0461607083582345, get_best b is : 73.97206271345371, and loss is : 44.864518826898575\n",
      "When time is : 29, get_best k is : -1.469212817241485, get_best b is : 73.84258551881395, and loss is : 42.07631380112945\n",
      "When time is : 30, get_best k is : -1.8745336411905797, get_best b is : 73.71846186493967, and loss is : 39.40489695915489\n",
      "When time is : 31, get_best k is : -2.262865887360693, get_best b is : 73.59946751074914, and loss is : 36.84537641696613\n",
      "When time is : 32, get_best k is : -2.6349211532762764, get_best b is : 73.48538760790332, and loss is : 34.393065195952\n",
      "When time is : 33, get_best k is : -2.9913812299141336, get_best b is : 73.3760163073739, and loss is : 32.08539087512999\n",
      "When time is : 34, get_best k is : -3.3328993502045043, get_best b is : 73.27115638249091, and loss is : 29.982574295915985\n",
      "When time is : 35, get_best k is : -3.6601013852364317, get_best b is : 73.17061886777964, and loss is : 28.013169967964977\n",
      "When time is : 36, get_best k is : -3.9735869903579015, get_best b is : 73.07422271292555, and loss is : 26.184940120998466\n",
      "When time is : 37, get_best k is : -4.273930703269508, get_best b is : 72.98179445123355, and loss is : 24.481195683061507\n",
      "When time is : 38, get_best k is : -4.561682996122487, get_best b is : 72.89316788197435, and loss is : 22.874882671057684\n",
      "When time is : 39, get_best k is : -4.837371283547716, get_best b is : 72.80818376603635, and loss is : 21.352190212397964\n",
      "When time is : 40, get_best k is : -5.1015008884616035, get_best b is : 72.72668953432574, and loss is : 19.91902056574741\n",
      "When time is : 41, get_best k is : -5.354555967417454, get_best b is : 72.64853900838075, and loss is : 18.613698570975043\n",
      "When time is : 42, get_best k is : -5.597000397196816, get_best b is : 72.57359213268847, and loss is : 17.43671869167418\n",
      "When time is : 43, get_best k is : -5.829278624264357, get_best b is : 72.50171471821412, and loss is : 16.375093260638938\n",
      "When time is : 44, get_best k is : -6.051816478641777, get_best b is : 72.43277819667291, and loss is : 15.401307596522033\n",
      "When time is : 45, get_best k is : -6.2650219536911536, get_best b is : 72.36665938509493, and loss is : 14.52425845997983\n",
      "When time is : 46, get_best k is : -6.469285953235642, get_best b is : 72.30324026025137, and loss is : 13.728910991800518\n",
      "When time is : 47, get_best k is : -6.664983007385685, get_best b is : 72.24240774252954, and loss is : 13.02058413695251\n",
      "When time is : 48, get_best k is : -6.852471958381548, get_best b is : 72.1840534888605, and loss is : 12.397734127974871\n",
      "When time is : 49, get_best k is : -7.032096617708088, get_best b is : 72.12807369432043, and loss is : 11.839953144205047\n",
      "When time is : 50, get_best k is : -7.204186395685105, get_best b is : 72.07436890204222, and loss is : 11.328120838554023\n",
      "When time is : 51, get_best k is : -7.369056904686144, get_best b is : 72.02284382108923, and loss is : 10.883340888795825\n",
      "When time is : 52, get_best k is : -7.5270105370904, get_best b is : 71.97340715195776, and loss is : 10.52717302630142\n",
      "When time is : 53, get_best k is : -7.678337019026062, get_best b is : 71.92597141938873, and loss is : 10.256707434142252\n",
      "When time is : 54, get_best k is : -7.823313940919109, get_best b is : 71.88045281218226, and loss is : 10.059656775565559\n",
      "When time is : 55, get_best k is : -7.962207265819123, get_best b is : 71.83677102972187, and loss is : 9.937322706874705\n",
      "When time is : 56, get_best k is : -8.095271816432952, get_best b is : 71.79484913492746, and loss is : 9.85462229770707\n",
      "When time is : 57, get_best k is : -8.22275174175808, get_best b is : 71.75461341336742, and loss is : 9.836460849552934\n"
     ]
    }
   ],
   "source": [
    "loss = gd(X_rm, y, mae, 2000)"
   ]
  },
  {
   "cell_type": "code",
   "execution_count": 25,
   "metadata": {},
   "outputs": [
    {
     "data": {
      "text/plain": [
       "[<matplotlib.lines.Line2D at 0x1a1be57780>]"
      ]
     },
     "execution_count": 25,
     "metadata": {},
     "output_type": "execute_result"
    },
    {
     "data": {
      "image/png": "[encoded data removed]",
      "text/plain": [
       "<Figure size 432x288 with 1 Axes>"
      ]
     },
     "metadata": {
      "needs_background": "light"
     },
     "output_type": "display_data"
    }
   ],
   "source": [
    "plt.plot([i for i in range(len(loss))], loss)"
   ]
  },
  {
   "cell_type": "markdown",
   "metadata": {},
   "source": [
    "### Part 3: Finish the Solution Parse Part of Edit-Distance"
   ]
  },
  {
   "cell_type": "code",
   "execution_count": 36,
   "metadata": {},
   "outputs": [],
   "source": [
    "from functools import wraps"
   ]
  },
  {
   "cell_type": "code",
   "execution_count": 162,
   "metadata": {},
   "outputs": [],
   "source": [
    "solution = {}"
   ]
  },
  {
   "cell_type": "code",
   "execution_count": 163,
   "metadata": {},
   "outputs": [],
   "source": [
    "def lru_cache(f):\n",
    "    cache = {}\n",
    "    @wraps(f)\n",
    "    def _wrap(string1, string2):\n",
    "        result = None\n",
    "        if (string1, string2) in cache:\n",
    "            result = cache[(string1, string2)]\n",
    "        else:\n",
    "            result = f(string1, string2)\n",
    "            cache[(string1, string2)] = result\n",
    "        return result\n",
    "    return _wrap\n",
    "        "
   ]
  },
  {
   "cell_type": "code",
   "execution_count": 164,
   "metadata": {},
   "outputs": [],
   "source": [
    "@lru_cache\n",
    "def edit_distance(string1, string2):\n",
    "    \n",
    "    if len(string1) == 0: return len(string2)\n",
    "    if len(string2) == 0: return len(string1)\n",
    "    \n",
    "    tail_s1 = string1[-1]\n",
    "    tail_s2 = string2[-1]\n",
    "    \n",
    "    candidates = [\n",
    "        (edit_distance(string1[:-1], string2) + 1, 'DEL {}'.format(tail_s1)),  # string 1 delete tail\n",
    "        (edit_distance(string1, string2[:-1]) + 1, 'ADD {}'.format(tail_s2)),  # string 1 add tail of string2\n",
    "    ]\n",
    "    \n",
    "    if tail_s1 == tail_s2:\n",
    "        both_forward = (edit_distance(string1[:-1], string2[:-1]) + 0, '')\n",
    "    else:\n",
    "        both_forward = (edit_distance(string1[:-1], string2[:-1]) + 1, 'SUB {} => {}'.format(tail_s1, tail_s2))\n",
    "\n",
    "    candidates.append(both_forward)\n",
    "    \n",
    "    min_distance, operation = min(candidates, key=lambda x: x[0])\n",
    "    \n",
    "    if min_distance != 0:\n",
    "        solution[(string1, string2)] = operation \n",
    "    \n",
    "    return min_distance"
   ]
  },
  {
   "cell_type": "code",
   "execution_count": 165,
   "metadata": {},
   "outputs": [
    {
     "data": {
      "text/plain": [
       "5"
      ]
     },
     "execution_count": 165,
     "metadata": {},
     "output_type": "execute_result"
    }
   ],
   "source": [
    "edit_distance('abcde', 'acfdedfg')"
   ]
  },
  {
   "cell_type": "code",
   "execution_count": 166,
   "metadata": {},
   "outputs": [
    {
     "data": {
      "text/plain": [
       "{('a', 'ac'): 'ADD c',\n",
       " ('a', 'acf'): 'ADD f',\n",
       " ('a', 'acfd'): 'ADD d',\n",
       " ('a', 'acfde'): 'ADD e',\n",
       " ('a', 'acfded'): 'ADD d',\n",
       " ('a', 'acfdedf'): 'ADD f',\n",
       " ('a', 'acfdedfg'): 'ADD g',\n",
       " ('ab', 'a'): 'DEL b',\n",
       " ('ab', 'ac'): 'SUB b => c',\n",
       " ('ab', 'acf'): 'ADD f',\n",
       " ('ab', 'acfd'): 'ADD d',\n",
       " ('ab', 'acfde'): 'ADD e',\n",
       " ('ab', 'acfded'): 'ADD d',\n",
       " ('ab', 'acfdedf'): 'ADD f',\n",
       " ('ab', 'acfdedfg'): 'ADD g',\n",
       " ('abc', 'a'): 'DEL c',\n",
       " ('abc', 'ac'): '',\n",
       " ('abc', 'acf'): 'ADD f',\n",
       " ('abc', 'acfd'): 'ADD d',\n",
       " ('abc', 'acfde'): 'ADD e',\n",
       " ('abc', 'acfded'): 'ADD d',\n",
       " ('abc', 'acfdedf'): 'ADD f',\n",
       " ('abc', 'acfdedfg'): 'ADD g',\n",
       " ('abcd', 'a'): 'DEL d',\n",
       " ('abcd', 'ac'): 'DEL d',\n",
       " ('abcd', 'acf'): 'SUB d => f',\n",
       " ('abcd', 'acfd'): '',\n",
       " ('abcd', 'acfde'): 'ADD e',\n",
       " ('abcd', 'acfded'): 'ADD d',\n",
       " ('abcd', 'acfdedf'): 'ADD f',\n",
       " ('abcd', 'acfdedfg'): 'ADD g',\n",
       " ('abcde', 'a'): 'DEL e',\n",
       " ('abcde', 'ac'): 'DEL e',\n",
       " ('abcde', 'acf'): 'DEL e',\n",
       " ('abcde', 'acfd'): 'DEL e',\n",
       " ('abcde', 'acfde'): '',\n",
       " ('abcde', 'acfded'): 'ADD d',\n",
       " ('abcde', 'acfdedf'): 'ADD f',\n",
       " ('abcde', 'acfdedfg'): 'ADD g'}"
      ]
     },
     "execution_count": 166,
     "metadata": {},
     "output_type": "execute_result"
    }
   ],
   "source": [
    "solution"
   ]
  },
  {
   "cell_type": "code",
   "execution_count": 190,
   "metadata": {},
   "outputs": [],
   "source": [
    "def print_solution(solution):\n",
    "    start = max(solution, key=lambda x: len(x[0]) + len(x[1]))\n",
    "    s1 = start[0]\n",
    "    s2 = start[1]\n",
    "    es1 = s1\n",
    "    es2 = s2\n",
    "    print('({}, {}): start'.format(s1, s2))\n",
    "    while start in solution:\n",
    "        action = solution[start]\n",
    "        if 'ADD' in action:\n",
    "            letter = action.split(' ')[-1]\n",
    "            s1 = s1[:len(es1)] + letter + s1[len(es1):]\n",
    "            print('({}, {}): ADD {}'.format(s1, s2,letter))\n",
    "            es2 = es2[:-1]\n",
    "        elif 'DEL' in action:\n",
    "            letter = action.split(' ')[-1]\n",
    "            s1 = s1[:len(es1)-1] + s1[len(es1):]\n",
    "            print('({}, {}): DEL {}'.format(s1, s2, letter))\n",
    "            es1 = es1[:-1]\n",
    "        elif 'SUB' in action:\n",
    "            s1 = es1[:-1] + es2[-1] + s1[len(es1):]\n",
    "            print('({}, {}): SUB {} => {}'.format(s1, s2, es1[-1], es2[-1]))\n",
    "            es1 = es1[:-1]\n",
    "            es2 = es2[:-1]\n",
    "        else:\n",
    "            es1 = es1[:-1]\n",
    "            es2 = es2[:-1]\n",
    "        start = (es1, es2)\n",
    "            \n",
    "            "
   ]
  },
  {
   "cell_type": "code",
   "execution_count": 191,
   "metadata": {},
   "outputs": [
    {
     "name": "stdout",
     "output_type": "stream",
     "text": [
      "(abcde, acfdedfg): start\n",
      "(abcdeg, acfdedfg): ADD g\n",
      "(abcdefg, acfdedfg): ADD f\n",
      "(abcdedfg, acfdedfg): ADD d\n",
      "(abcfdedfg, acfdedfg): ADD f\n",
      "(acfdedfg, acfdedfg): DEL b\n"
     ]
    }
   ],
   "source": [
    "print_solution(solution)"
   ]
  },
  {
   "cell_type": "markdown",
   "metadata": {},
   "source": [
    "### Part 4 Choose 1 - 2 books to keep reading: \n",
    "\n",
    "+ SICP, Structure and Interpretation of Computer Programming. \n",
    "+ Introduction to Algorithms \n",
    "+ Artificial Intelligence A Modern Approach (3rd Edition) \n",
    "+ Code Complete 2 \n",
    "+ Programming Pearls \n",
    "+ Deep Learning\n",
    "+ 黑客与画家\n",
    "+ 数学之美\n",
    "+ Fluent Python\n",
    "+ Hands on Tensorflow\n",
    "+ Conference: NIPS_ ICML_ ICLR_ ACL_ AAAI\n",
    "\n",
    "> most books you may find in our github: https://github.com/Computing-Intelligence/References"
   ]
  },
  {
   "cell_type": "markdown",
   "metadata": {},
   "source": [
    "## Part 5-1: review machine learning"
   ]
  },
  {
   "cell_type": "markdown",
   "metadata": {},
   "source": [
    "1. Why do we use Derivative / Gradient to fit a target function?¶"
   ]
  },
  {
   "cell_type": "markdown",
   "metadata": {},
   "source": [
    "Ans: 导数提供函数变小的信息"
   ]
  },
  {
   "cell_type": "markdown",
   "metadata": {},
   "source": [
    "2. In the words 'Gredient Descent', what's the Gredient and what's the Descent?¶"
   ]
  },
  {
   "cell_type": "markdown",
   "metadata": {},
   "source": [
    "Ans:梯度是函数对变量的导数，下降是变量沿着这个梯度的方向变化"
   ]
  },
  {
   "cell_type": "markdown",
   "metadata": {},
   "source": [
    "\n",
    "3. What's the advantages of the 3rd gradient descent method compared to the previous methods?"
   ]
  },
  {
   "cell_type": "markdown",
   "metadata": {},
   "source": [
    "Ans:调整参数的大小和方向都是依赖于损失函数对变量的导数，使得优化速度更快"
   ]
  },
  {
   "cell_type": "markdown",
   "metadata": {},
   "source": [
    "4. Using the simple words to describe: What's the machine leanring.¶"
   ]
  },
  {
   "cell_type": "markdown",
   "metadata": {},
   "source": [
    "Ans: 通过数据，机器自己学出一个目标函数，该函数可以用来预测、分类等"
   ]
  },
  {
   "cell_type": "markdown",
   "metadata": {},
   "source": [
    "### Part 5: Answer following questions: "
   ]
  },
  {
   "cell_type": "markdown",
   "metadata": {},
   "source": [
    "1. Why do we need dynamic programming? What's the difference of dynamic programming and previous talked `search` problem? "
   ]
  },
  {
   "cell_type": "markdown",
   "metadata": {},
   "source": [
    "如果一个函数的值$f(n)$是依赖于n-1.n-2...，那么可以将$f(n-1),f(n-2)...$的值存储下来，之后直接调用，节省了重复的计算时间。\n"
   ]
  },
  {
   "cell_type": "markdown",
   "metadata": {},
   "source": [
    "2. Why do we still need dynamic programming? Why not we train a machine learning to fit a function which could get the `right` answer based on inputs?"
   ]
  },
  {
   "cell_type": "markdown",
   "metadata": {},
   "source": [
    "对于某些特定问题，目标函数的形势比较简单，那么使用dp会比ml更加快，并且不依赖于数据量的多少。同时，dp的递推关系是精准的，而ml学到的函数有些情况是不可控或者不精准的的。"
   ]
  },
  {
   "cell_type": "markdown",
   "metadata": {},
   "source": [
    "3. Can you catch up at least 3 problems which could solved by Dynamic Programming? "
   ]
  },
  {
   "cell_type": "markdown",
   "metadata": {},
   "source": [
    "求两个字符串的最长公共子串；背包问题；Fibonacci数列"
   ]
  },
  {
   "cell_type": "markdown",
   "metadata": {},
   "source": [
    "4. Can you catch up at least 3 problems wich could solved by Edit Distance? "
   ]
  },
  {
   "cell_type": "markdown",
   "metadata": {},
   "source": [
    "翻译效果评测；spell correction；语音翻译评价"
   ]
  },
  {
   "cell_type": "markdown",
   "metadata": {},
   "source": [
    "5. Please summarize the three main features of Dynamic Programming, and make a concise explain for each feature. "
   ]
  },
  {
   "cell_type": "markdown",
   "metadata": {},
   "source": [
    "面对的问题可以找到关于n的递推关系式；对于特定的n，问题解法比较容易；一般需要较大的存储空间"
   ]
  },
  {
   "cell_type": "markdown",
   "metadata": {},
   "source": [
    "6. What's the disadvantages of Dynamic Programming? (You may need search by yourself in Internet)"
   ]
  },
  {
   "cell_type": "markdown",
   "metadata": {},
   "source": [
    "需要存储之前的许多数据，耗费存储空间"
   ]
  },
  {
   "cell_type": "markdown",
   "metadata": {},
   "source": [
    "## Part 6 Preparation of Project-01"
   ]
  },
  {
   "cell_type": "markdown",
   "metadata": {},
   "source": [
    "1. Using python Flask or Bottle to finish your first simple web app:\n",
    "> https://bottlepy.org/\n",
    "\n",
    "2. Learn what's the SQL, and try some simple SQL operations:\n",
    "> https://www.w3schools.com/sql/sql_intro.asp\n",
    "\n",
    "3. Learn what's the HTML ( *ONLY* need to know the basic things)\n",
    "> https://getbootstrap.com/; https://www.w3schools.com/html/"
   ]
  },
  {
   "cell_type": "markdown",
   "metadata": {},
   "source": [
    "### (Optinal) Finish the k-person-salesman problem:"
   ]
  },
  {
   "cell_type": "code",
   "execution_count": 7,
   "metadata": {},
   "outputs": [],
   "source": [
    "import random\n",
    "import matplotlib.pylab as plt"
   ]
  },
  {
   "cell_type": "code",
   "execution_count": 8,
   "metadata": {},
   "outputs": [],
   "source": [
    "latitudes = [random.randint(-100, 100) for _ in range(20)]\n",
    "longitude = [random.randint(-100, 100) for _ in range(20)]"
   ]
  },
  {
   "cell_type": "code",
   "execution_count": 9,
   "metadata": {},
   "outputs": [
    {
     "data": {
      "text/plain": [
       "<matplotlib.collections.PathCollection at 0x11da1c588>"
      ]
     },
     "execution_count": 9,
     "metadata": {},
     "output_type": "execute_result"
    },
    {
     "data": {
      "image/png": "[encoded data removed]",
      "text/plain": [
       "<Figure size 432x288 with 1 Axes>"
      ]
     },
     "metadata": {
      "needs_background": "light"
     },
     "output_type": "display_data"
    }
   ],
   "source": [
    "plt.scatter(latitudes, longitude)"
   ]
  },
  {
   "cell_type": "markdown",
   "metadata": {},
   "source": [
    "给定一个初始点 𝑃, 已经 𝑘个车辆，如何从该点出发，经这 k 个车辆经过所以的点全部一次，而且所走过的路程最短?\n",
    "\n",
    "例如："
   ]
  },
  {
   "cell_type": "code",
   "execution_count": 14,
   "metadata": {},
   "outputs": [],
   "source": [
    "chosen_p = (-50, 10)\n",
    "chosen_p2 = (1, 30)\n",
    "chosen_p3 = (99, 15)"
   ]
  },
  {
   "cell_type": "code",
   "execution_count": 4,
   "metadata": {},
   "outputs": [],
   "source": [
    "import matplotlib.pyplot as plt"
   ]
  },
  {
   "cell_type": "code",
   "execution_count": 15,
   "metadata": {
    "scrolled": true
   },
   "outputs": [
    {
     "data": {
      "text/plain": [
       "<matplotlib.collections.PathCollection at 0x11dbbd470>"
      ]
     },
     "execution_count": 15,
     "metadata": {},
     "output_type": "execute_result"
    },
    {
     "data": {
      "image/png": "[encoded data removed]",
      "text/plain": [
       "<Figure size 432x288 with 1 Axes>"
      ]
     },
     "metadata": {
      "needs_background": "light"
     },
     "output_type": "display_data"
    }
   ],
   "source": [
    "plt.scatter(latitudes, longitude)\n",
    "plt.scatter([chosen_p[0]], [chosen_p[1]], color='r')\n",
    "plt.scatter([chosen_p2[0]], [chosen_p2[1]], color='r')\n",
    "plt.scatter([chosen_p3[0]], [chosen_p3[1]], color='r')"
   ]
  },
  {
   "cell_type": "markdown",
   "metadata": {},
   "source": [
    "shuro"
   ]
  }
 ],
 "metadata": {
  "kernelspec": {
   "display_name": "Python 3",
   "language": "python",
   "name": "python3"
  },
  "language_info": {
   "codemirror_mode": {
    "name": "ipython",
    "version": 3
   },
   "file_extension": ".py",
   "mimetype": "text/x-python",
   "name": "python",
   "nbconvert_exporter": "python",
   "pygments_lexer": "ipython3",
   "version": "3.6.6"
  }
 },
 "nbformat": 4,
 "nbformat_minor": 2
}
