{
 "cells": [
  {
   "cell_type": "markdown",
   "metadata": {},
   "source": [
    "## Assignment-07 First Step of using machine learning and models."
   ]
  },
  {
   "cell_type": "markdown",
   "metadata": {},
   "source": [
    "![](https://github.com/Computing-Intelligence/jupyters_and_slides/raw/master/entrance-test/images/kkb-ai.png)"
   ]
  },
  {
   "cell_type": "markdown",
   "metadata": {},
   "source": [
    "### 任务描述"
   ]
  },
  {
   "cell_type": "markdown",
   "metadata": {},
   "source": [
    "报社等相关的机构，往往会遇到一个问题，就是别人家的机构使用自己的文章但是并没有标明来源。 在本次任务中，我们将解决新华社的文章被抄袭引用的问题。"
   ]
  },
  {
   "cell_type": "markdown",
   "metadata": {},
   "source": [
    "给定的数据集合中，存在一些新闻预料，该预料是来自新华社，但是其来源并不是新华社，请设计技巧学习模型解决该问题。"
   ]
  },
  {
   "cell_type": "markdown",
   "metadata": {},
   "source": [
    "![](https://timgsa.baidu.com/timg?image&quality=80&size=b9999_10000&sec=1566105348906&di=ee9a2de91207767364853d4decc6cca3&imgtype=0&src=http%3A%2F%2Fmmbiz.qpic.cn%2Fmmbiz_png%2FTicO2kbP6Ao5sCsSQDpehZiczLdC6hDCNvoicjcOCEKX2bLxBc9gVOw28zHyFibfIWq9ceRibP6HDTKReGkr6YyTfQQ%2F640%3Fwx_fmt%3Dpng)"
   ]
  },
  {
   "cell_type": "code",
   "execution_count": 1,
   "metadata": {
    "collapsed": true
   },
   "outputs": [],
   "source": [
    "import pandas as pd\n",
    "import jieba\n",
    "import numpy as np\n",
    "from sklearn.feature_extraction.text import TfidfVectorizer\n",
    "from sklearn.model_selection import train_test_split\n",
    "from sklearn.neighbors import KNeighborsClassifier\n",
    "from sklearn.metrics import precision_recall_curve\n",
    "import matplotlib.pyplot as plt"
   ]
  },
  {
   "cell_type": "markdown",
   "metadata": {},
   "source": [
    "### Step1: 数据分析"
   ]
  },
  {
   "cell_type": "markdown",
   "metadata": {},
   "source": [
    "请在课程的GitHub中下载数据集，然后使用pandas进行读取。"
   ]
  },
  {
   "cell_type": "code",
   "execution_count": 2,
   "metadata": {
    "collapsed": true
   },
   "outputs": [],
   "source": [
    "# it‘s your time\n",
    "fname = '/Users/xuziqing/Desktop/Activity/2019NLP/datasource/sqlResult_1558435.csv'\n",
    "content = pd.read_csv(fname, encoding='gb18030')"
   ]
  },
  {
   "cell_type": "markdown",
   "metadata": {},
   "source": [
    "### Step2: 数据预处理"
   ]
  },
  {
   "cell_type": "markdown",
   "metadata": {},
   "source": [
    "将pandas中的数据，依据是否是新华社的文章，请改变成新的数据dataframe: <content, y>, 其中，content是文章内容，y是0或者1. 你可能要使用到pandas的dataframe操作。https://pandas.pydata.org/pandas-docs/stable/reference/api/pandas.DataFrame.apply.html"
   ]
  },
  {
   "cell_type": "code",
   "execution_count": 3,
   "metadata": {
    "scrolled": true
   },
   "outputs": [],
   "source": [
    "# it's your time\n",
    "content['y'] = content.apply(lambda x: 1 if x['source'] == '新华社' else 0, axis=1)"
   ]
  },
  {
   "cell_type": "markdown",
   "metadata": {},
   "source": [
    "### Step3: 使用tfidf进行文本向量化"
   ]
  },
  {
   "cell_type": "markdown",
   "metadata": {},
   "source": [
    "参考 https://scikit-learn.org/stable/modules/generated/sklearn.feature_extraction.text.TfidfVectorizer.html 对文本进行向量化"
   ]
  },
  {
   "cell_type": "code",
   "execution_count": 4,
   "metadata": {
    "collapsed": true
   },
   "outputs": [],
   "source": [
    "text_list = content['content'].to_list()"
   ]
  },
  {
   "cell_type": "code",
   "execution_count": 5,
   "metadata": {
    "collapsed": true
   },
   "outputs": [],
   "source": [
    "def clean_text(text):\n",
    "    text = text.replace('\\r', '')\n",
    "    text = text.replace('\\n', '')\n",
    "    text = text.replace(' ', '')\n",
    "    text = text.replace('\\u3000', '')\n",
    "    text.replace('/', '')\n",
    "    return text"
   ]
  },
  {
   "cell_type": "code",
   "execution_count": 6,
   "metadata": {},
   "outputs": [
    {
     "name": "stderr",
     "output_type": "stream",
     "text": [
      "Building prefix dict from the default dictionary ...\n",
      "Loading model from cache /var/folders/rj/jzx__st55sb6pdxspk3qncf80000gn/T/jieba.cache\n",
      "Loading model cost 0.976 seconds.\n",
      "Prefix dict has been built succesfully.\n"
     ]
    }
   ],
   "source": [
    "corpus = []\n",
    "for text in text_list:\n",
    "    if type(text) == float:\n",
    "        corpus.append('空')\n",
    "    else:\n",
    "        text = clean_text(text)\n",
    "        text = jieba.cut(text)\n",
    "        line = ' '.join(text)\n",
    "        corpus.append(line)\n",
    "    "
   ]
  },
  {
   "cell_type": "code",
   "execution_count": 7,
   "metadata": {
    "collapsed": true
   },
   "outputs": [],
   "source": [
    "vectorize = TfidfVectorizer(max_features=200)\n",
    "X = vectorize.fit_transform(corpus)"
   ]
  },
  {
   "cell_type": "code",
   "execution_count": 8,
   "metadata": {},
   "outputs": [
    {
     "name": "stdout",
     "output_type": "stream",
     "text": [
      "(89611, 200)\n"
     ]
    }
   ],
   "source": [
    "print(X.shape)"
   ]
  },
  {
   "cell_type": "markdown",
   "metadata": {},
   "source": [
    "### KNN"
   ]
  },
  {
   "cell_type": "markdown",
   "metadata": {},
   "source": [
    "+ 按照课程讲解的内容，把数据集分割为 traning_data, validation_data, test_data. https://scikit-learn.org/stable/modules/generated/sklearn.model_selection.train_test_split.html"
   ]
  },
  {
   "cell_type": "code",
   "execution_count": 9,
   "metadata": {
    "collapsed": true
   },
   "outputs": [],
   "source": [
    "y = content['y'].to_list()"
   ]
  },
  {
   "cell_type": "code",
   "execution_count": 10,
   "metadata": {
    "collapsed": true
   },
   "outputs": [],
   "source": [
    "X_train, X_test, y_train, y_test = train_test_split(X, y, test_size=0.15, random_state=5)\n",
    "X_train, X_valid, y_train, y_valid = train_test_split(X_train, y_train, test_size=0.20, random_state=5)"
   ]
  },
  {
   "cell_type": "markdown",
   "metadata": {},
   "source": [
    "+ 参照scikit learning的示例，从构建你的第一个KNN机器学习模型。"
   ]
  },
  {
   "cell_type": "code",
   "execution_count": 13,
   "metadata": {},
   "outputs": [
    {
     "name": "stdout",
     "output_type": "stream",
     "text": [
      "1  Neighbour-Model accuracy on training, validation and test dataset is:  1.0 0.93 0.93\n",
      "2  Neighbour-Model accuracy on training, validation and test dataset is:  1.0 0.93 0.93\n",
      "3  Neighbour-Model accuracy on training, validation and test dataset is:  1.0 0.94 0.93\n",
      "5  Neighbour-Model accuracy on training, validation and test dataset is:  1.0 0.93 0.93\n",
      "10  Neighbour-Model accuracy on training, validation and test dataset is:  1.0 0.93 0.93\n"
     ]
    }
   ],
   "source": [
    "# 选取不同的k，训练模型，并记录每个模型在train，valid和test上的表现:accuracy, recall, precision, f1\n",
    "K = [1, 2, 3, 5, 10]\n",
    "train_acc = []\n",
    "train_precision = []\n",
    "train_recall = []\n",
    "train_f1 = []\n",
    "valid_acc = []\n",
    "valid_precision = []\n",
    "valid_recall = []\n",
    "valid_f1 = []\n",
    "test_acc = []\n",
    "test_precision = []\n",
    "test_recall = []\n",
    "test_f1 = []\n",
    "\n",
    "for k in K:\n",
    "    neigh = KNeighborsClassifier(n_neighbors=k, weights='distance')\n",
    "    neigh.fit(X_train, y_train)\n",
    "    train_pred = neigh.predict(X_train)\n",
    "    valid_pred = neigh.predict(X_valid)\n",
    "    test_pred = neigh.predict(X_test)\n",
    "    # acc\n",
    "    t1 = neigh.score(X_train, y_train)\n",
    "    t2 = neigh.score(X_valid, y_valid)\n",
    "    t3 = neigh.score(X_test, y_test)\n",
    "    train_acc.append(t1)\n",
    "    valid_acc.append(t2)\n",
    "    test_acc.append(t3)\n",
    "    # precision and recall\n",
    "    p, r, t = precision_recall_curve(y_train, neigh.predict(X_train))\n",
    "    train_precision.append(p[1])\n",
    "    train_recall.append(r[1])\n",
    "    train_f1.append(p[1] * r[1] / (p[1] + r[1]))\n",
    "    \n",
    "    p, r, t = precision_recall_curve(y_valid, neigh.predict(X_valid))\n",
    "    valid_precision.append(p[1])\n",
    "    valid_recall.append(r[1])\n",
    "    valid_f1.append(p[1] * r[1] / (p[1] + r[1]))\n",
    "    \n",
    "    p, r, t = precision_recall_curve(y_test, neigh.predict(X_test))\n",
    "    test_precision.append(p[1])\n",
    "    test_recall.append(r[1])\n",
    "    test_f1.append(p[1] * r[1] / (p[1] + r[1]))\n",
    "    \n",
    "    print(k, ' Neighbour-Model accuracy on training, validation and test dataset is: ', round(t1, 2), round(t2, 2), round(t3, 2))\n",
    "    "
   ]
  },
  {
   "cell_type": "markdown",
   "metadata": {},
   "source": [
    "### Step5: 在traning_data, validation_data, test_data 上观察其相关metric: recall, precision, f1等， 并解释其含义. "
   ]
  },
  {
   "cell_type": "markdown",
   "metadata": {},
   "source": [
    "### accuracy曲线"
   ]
  },
  {
   "cell_type": "code",
   "execution_count": 16,
   "metadata": {},
   "outputs": [
    {
     "data": {
      "image/png": "[encoded data removed]",
      "text/plain": [
       "<matplotlib.figure.Figure at 0x1196b6470>"
      ]
     },
     "metadata": {},
     "output_type": "display_data"
    }
   ],
   "source": [
    "plt.plot(K, train_acc, color='r', label='train acc')\n",
    "plt.plot(K, valid_acc, color='b', label='valid acc')\n",
    "plt.plot(K, test_acc, color='g', label='test acc')\n",
    "plt.ylim(0.9, 1.0)\n",
    "plt.xticks([1, 2, 3, 5, 10])\n",
    "plt.legend(loc='upper right')\n",
    "plt.show()"
   ]
  },
  {
   "cell_type": "markdown",
   "metadata": {},
   "source": [
    "### precision曲线：precision是查准率，即准确预测为1的样本数量占预测为1的样本数量比例"
   ]
  },
  {
   "cell_type": "code",
   "execution_count": 17,
   "metadata": {},
   "outputs": [
    {
     "data": {
      "image/png": "[encoded data removed]",
      "text/plain": [
       "<matplotlib.figure.Figure at 0x11997da20>"
      ]
     },
     "metadata": {},
     "output_type": "display_data"
    }
   ],
   "source": [
    "plt.plot(K, train_precision, color='r', label='train precision')\n",
    "plt.plot(K, valid_precision, color='b', label='valid precision')\n",
    "plt.plot(K, test_precision, color='g', label='test precison')\n",
    "plt.legend(loc='upper right')\n",
    "plt.ylim(0.9, 1.0)\n",
    "plt.xticks([1, 2, 3, 5, 10])\n",
    "plt.show()"
   ]
  },
  {
   "cell_type": "markdown",
   "metadata": {},
   "source": [
    "### recall曲线：recall是查全率，即预测为1且准确的样本占总的分类为1的比例"
   ]
  },
  {
   "cell_type": "code",
   "execution_count": 18,
   "metadata": {},
   "outputs": [
    {
     "data": {
      "image/png": "[encoded data removed]",
      "text/plain": [
       "<matplotlib.figure.Figure at 0x119776400>"
      ]
     },
     "metadata": {},
     "output_type": "display_data"
    }
   ],
   "source": [
    "plt.plot(K, train_recall, color='r', label='train recall')\n",
    "plt.plot(K, valid_recall, color='b', label='valid recall')\n",
    "plt.plot(K, test_recall, color='g', label='test recall')\n",
    "plt.legend(loc='upper right')\n",
    "plt.ylim(0.9, 1.0)\n",
    "plt.xticks([1, 2, 3, 5, 10])\n",
    "plt.show()"
   ]
  },
  {
   "cell_type": "markdown",
   "metadata": {},
   "source": [
    "### f1曲线：f1是结合recall和precision的一种方式"
   ]
  },
  {
   "cell_type": "code",
   "execution_count": 21,
   "metadata": {},
   "outputs": [
    {
     "data": {
      "image/png": "[encoded data removed]",
      "text/plain": [
       "<matplotlib.figure.Figure at 0x11ad5dbe0>"
      ]
     },
     "metadata": {},
     "output_type": "display_data"
    }
   ],
   "source": [
    "plt.plot(K, train_f1, color='r', label='train f1')\n",
    "plt.plot(K, valid_f1, color='b', label='valid f1')\n",
    "plt.plot(K, test_f1, color='g', label='test f1')\n",
    "plt.legend(loc='upper right')\n",
    "plt.ylim(0.48, 0.5)\n",
    "plt.xticks([1, 2, 3, 5, 10])\n",
    "plt.show()"
   ]
  },
  {
   "cell_type": "markdown",
   "metadata": {},
   "source": [
    "### 根据上图呈现的趋势，我们选取领域大小k=3，weights=distance"
   ]
  },
  {
   "cell_type": "markdown",
   "metadata": {},
   "source": [
    "### Step9: 找出所以预测为 1， 但是实际为 0 的文章。 作为抄袭的候选者。"
   ]
  },
  {
   "cell_type": "code",
   "execution_count": 22,
   "metadata": {},
   "outputs": [
    {
     "data": {
      "text/plain": [
       "KNeighborsClassifier(algorithm='auto', leaf_size=30, metric='minkowski',\n",
       "                     metric_params=None, n_jobs=None, n_neighbors=3, p=2,\n",
       "                     weights='distance')"
      ]
     },
     "execution_count": 22,
     "metadata": {},
     "output_type": "execute_result"
    }
   ],
   "source": [
    "Three_neigh = KNeighborsClassifier(n_neighbors=3, weights='distance')\n",
    "Three_neigh.fit(X_train, y_train)"
   ]
  },
  {
   "cell_type": "code",
   "execution_count": 36,
   "metadata": {},
   "outputs": [],
   "source": [
    "pred = Three_neigh.predict(X_test)"
   ]
  },
  {
   "cell_type": "code",
   "execution_count": 58,
   "metadata": {},
   "outputs": [],
   "source": [
    "pla_candidate = []\n",
    "for i, j, k in zip(X_test, y_test, pred):\n",
    "    if k == 1 and j == 0:\n",
    "        pla_candidate.append(i)"
   ]
  },
  {
   "cell_type": "markdown",
   "metadata": {},
   "source": [
    "### 为了找回向量代表的段落，我的想法是根据tf-idf向量化后的关键词，回到content中进行匹配。因为这样的匹配时间会比较久，所以我只对一个例子进行操作。"
   ]
  },
  {
   "cell_type": "code",
   "execution_count": 90,
   "metadata": {},
   "outputs": [],
   "source": [
    "target_text = ''\n",
    "keyword = vectorize.inverse_transform(pla_candidate[0])[0]\n",
    "for text in corpus:\n",
    "    i = 0\n",
    "    state = True\n",
    "    while i < len(keyword) and state:\n",
    "        word = keyword[i]\n",
    "        if str(word) in str(text):\n",
    "            pass\n",
    "        else:\n",
    "            state = False\n",
    "        i += 1\n",
    "    if i == len(keyword):\n",
    "        target_text = text"
   ]
  },
  {
   "cell_type": "markdown",
   "metadata": {},
   "source": [
    "### Step10： 总结该过程，什么是数据思维？什么是机器学习思维？"
   ]
  },
  {
   "cell_type": "markdown",
   "metadata": {},
   "source": [
    "#### 答：数据思维是认为我们可以利用数据中潜在的关联性去对数据进行分析、推理。机器学习思维是建立模型，让模型通过接受大量的数据来自发的推演出数据中的信息、规律，然后对数据进行解释、预测"
   ]
  },
  {
   "cell_type": "markdown",
   "metadata": {},
   "source": [
    "### Step11: 利用第8课讲述的新模型，进行操作，感受其中不同的参数、模型对性能的影响。"
   ]
  },
  {
   "cell_type": "markdown",
   "metadata": {},
   "source": [
    "### SVM"
   ]
  },
  {
   "cell_type": "code",
   "execution_count": 92,
   "metadata": {
    "collapsed": true
   },
   "outputs": [],
   "source": [
    "from sklearn.svm import SVC"
   ]
  },
  {
   "cell_type": "code",
   "execution_count": 97,
   "metadata": {},
   "outputs": [
    {
     "name": "stderr",
     "output_type": "stream",
     "text": [
      "/Users/xuziqing/anaconda3/lib/python3.6/site-packages/sklearn/svm/base.py:193: FutureWarning: The default value of gamma will change from 'auto' to 'scale' in version 0.22 to account better for unscaled features. Set gamma explicitly to 'auto' or 'scale' to avoid this warning.\n",
      "  \"avoid this warning.\", FutureWarning)\n"
     ]
    },
    {
     "name": "stdout",
     "output_type": "stream",
     "text": [
      "SVM with kernel  rbf  accuracy on training, validation and test dataset is:  0.88 0.88 0.88\n",
      "SVM with kernel  linear  accuracy on training, validation and test dataset is:  0.98 0.97 0.97\n",
      "SVM with kernel  poly  accuracy on training, validation and test dataset is:  0.88 0.88 0.88\n",
      "SVM with kernel  sigmoid  accuracy on training, validation and test dataset is:  0.88 0.88 0.88\n"
     ]
    }
   ],
   "source": [
    "KERNEL = ['rbf', 'linear', 'poly', 'sigmoid']\n",
    "train_acc = []\n",
    "train_precision = []\n",
    "train_recall = []\n",
    "train_f1 = []\n",
    "valid_acc = []\n",
    "valid_precision = []\n",
    "valid_recall = []\n",
    "valid_f1 = []\n",
    "test_acc = []\n",
    "test_precision = []\n",
    "test_recall = []\n",
    "test_f1 = []\n",
    "\n",
    "for k in KERNEL:\n",
    "    clf = SVC(kernel=k)\n",
    "    clf.fit(X_train, y_train)\n",
    "    # acc\n",
    "    t1 = clf.score(X_train, y_train)\n",
    "    t2 = clf.score(X_valid, y_valid)\n",
    "    t3 = clf.score(X_test, y_test)\n",
    "    train_acc.append(t1)\n",
    "    valid_acc.append(t2)\n",
    "    test_acc.append(t3)\n",
    "    # precision and recall\n",
    "    p, r, t = precision_recall_curve(y_train, clf.predict(X_train))\n",
    "    train_precision.append(p[1])\n",
    "    train_recall.append(r[1])\n",
    "    train_f1.append(p[1] * r[1] / (p[1] + r[1]))\n",
    "    \n",
    "    p, r, t = precision_recall_curve(y_valid, clf.predict(X_valid))\n",
    "    valid_precision.append(p[1])\n",
    "    valid_recall.append(r[1])\n",
    "    valid_f1.append(p[1] * r[1] / (p[1] + r[1]))\n",
    "    \n",
    "    p, r, t = precision_recall_curve(y_test, clf.predict(X_test))\n",
    "    test_precision.append(p[1])\n",
    "    test_recall.append(r[1])\n",
    "    test_f1.append(p[1] * r[1] / (p[1] + r[1]))\n",
    "    \n",
    "    print('SVM with kernel ', k,' accuracy on training, validation and test dataset is: ', round(t1, 2), round(t2, 2), round(t3, 2))\n",
    "    "
   ]
  },
  {
   "cell_type": "markdown",
   "metadata": {},
   "source": [
    "### Random Forest"
   ]
  },
  {
   "cell_type": "code",
   "execution_count": 98,
   "metadata": {
    "collapsed": true
   },
   "outputs": [],
   "source": [
    "from sklearn.ensemble import RandomForestClassifier"
   ]
  },
  {
   "cell_type": "code",
   "execution_count": 99,
   "metadata": {},
   "outputs": [
    {
     "name": "stdout",
     "output_type": "stream",
     "text": [
      "RF with n_estimator:  10 ,max_features:  sqrt ,criteria: gini  ,accuracy on training, validation and test dataset is:  1.0 0.98 0.99\n",
      "RF with n_estimator:  50 ,max_features:  sqrt ,criteria: gini  ,accuracy on training, validation and test dataset is:  1.0 0.99 0.99\n",
      "RF with n_estimator:  100 ,max_features:  sqrt ,criteria: gini  ,accuracy on training, validation and test dataset is:  1.0 0.99 0.99\n",
      "RF with n_estimator:  10 ,max_features:  log2 ,criteria: gini  ,accuracy on training, validation and test dataset is:  1.0 0.98 0.98\n",
      "RF with n_estimator:  50 ,max_features:  log2 ,criteria: gini  ,accuracy on training, validation and test dataset is:  1.0 0.99 0.99\n",
      "RF with n_estimator:  100 ,max_features:  log2 ,criteria: gini  ,accuracy on training, validation and test dataset is:  1.0 0.99 0.99\n",
      "RF with n_estimator:  10 ,max_features:  sqrt ,criteria: entropy  ,accuracy on training, validation and test dataset is:  1.0 0.99 0.99\n",
      "RF with n_estimator:  50 ,max_features:  sqrt ,criteria: entropy  ,accuracy on training, validation and test dataset is:  1.0 0.99 0.99\n",
      "RF with n_estimator:  100 ,max_features:  sqrt ,criteria: entropy  ,accuracy on training, validation and test dataset is:  1.0 0.99 0.99\n",
      "RF with n_estimator:  10 ,max_features:  log2 ,criteria: entropy  ,accuracy on training, validation and test dataset is:  1.0 0.98 0.98\n",
      "RF with n_estimator:  50 ,max_features:  log2 ,criteria: entropy  ,accuracy on training, validation and test dataset is:  1.0 0.99 0.99\n",
      "RF with n_estimator:  100 ,max_features:  log2 ,criteria: entropy  ,accuracy on training, validation and test dataset is:  1.0 0.99 0.99\n"
     ]
    }
   ],
   "source": [
    "CRITERION = ['gini', 'entropy']\n",
    "MAX_FEATURES = ['sqrt', 'log2']\n",
    "N_ESTIMATOR = [10, 50, 100]\n",
    "train_acc = []\n",
    "train_precision = []\n",
    "train_recall = []\n",
    "train_f1 = []\n",
    "valid_acc = []\n",
    "valid_precision = []\n",
    "valid_recall = []\n",
    "valid_f1 = []\n",
    "test_acc = []\n",
    "test_precision = []\n",
    "test_recall = []\n",
    "test_f1 = []\n",
    "\n",
    "for critera in CRITERION:\n",
    "    for max_feature in MAX_FEATURES:\n",
    "        for n_estimator in N_ESTIMATOR:\n",
    "            clf = RandomForestClassifier(n_estimators=n_estimator, max_features=max_feature, criterion=critera)\n",
    "            clf.fit(X_train, y_train)\n",
    "            # acc\n",
    "            t1 = clf.score(X_train, y_train)\n",
    "            t2 = clf.score(X_valid, y_valid)\n",
    "            t3 = clf.score(X_test, y_test)\n",
    "            train_acc.append(t1)\n",
    "            valid_acc.append(t2)\n",
    "            test_acc.append(t3)\n",
    "            # precision and recall\n",
    "            p, r, t = precision_recall_curve(y_train, clf.predict(X_train))\n",
    "            train_precision.append(p[1])\n",
    "            train_recall.append(r[1])\n",
    "            train_f1.append(p[1] * r[1] / (p[1] + r[1]))\n",
    "\n",
    "            p, r, t = precision_recall_curve(y_valid, clf.predict(X_valid))\n",
    "            valid_precision.append(p[1])\n",
    "            valid_recall.append(r[1])\n",
    "            valid_f1.append(p[1] * r[1] / (p[1] + r[1]))\n",
    "\n",
    "            p, r, t = precision_recall_curve(y_test, clf.predict(X_test))\n",
    "            test_precision.append(p[1])\n",
    "            test_recall.append(r[1])\n",
    "            test_f1.append(p[1] * r[1] / (p[1] + r[1]))\n",
    "\n",
    "            print('RF with n_estimator: ', n_estimator, ',max_features: ', max_feature, ',criteria:', critera, ' ,accuracy on training, validation and test dataset is: ', round(t1, 2), round(t2, 2), round(t3, 2))\n"
   ]
  },
  {
   "cell_type": "markdown",
   "metadata": {},
   "source": [
    "### LogisticRegression"
   ]
  },
  {
   "cell_type": "code",
   "execution_count": 102,
   "metadata": {
    "collapsed": true
   },
   "outputs": [],
   "source": [
    "from sklearn.linear_model import LogisticRegression"
   ]
  },
  {
   "cell_type": "code",
   "execution_count": 107,
   "metadata": {},
   "outputs": [
    {
     "name": "stdout",
     "output_type": "stream",
     "text": [
      "LR with C: 0.1 ,penalty: l2 ,solver: liblinear  accuracy on training, validation and test dataset is:  0.95 0.96 0.95\n",
      "LR with C: 1 ,penalty: l2 ,solver: liblinear  accuracy on training, validation and test dataset is:  0.97 0.97 0.97\n",
      "LR with C: 10 ,penalty: l2 ,solver: liblinear  accuracy on training, validation and test dataset is:  0.98 0.98 0.98\n",
      "LR with C: 0.1 ,penalty: l2 ,solver: lbfgs  accuracy on training, validation and test dataset is:  0.95 0.96 0.95\n",
      "LR with C: 1 ,penalty: l2 ,solver: lbfgs  accuracy on training, validation and test dataset is:  0.97 0.97 0.97\n",
      "LR with C: 10 ,penalty: l2 ,solver: lbfgs  accuracy on training, validation and test dataset is:  0.98 0.98 0.98\n"
     ]
    },
    {
     "name": "stderr",
     "output_type": "stream",
     "text": [
      "/Users/xuziqing/anaconda3/lib/python3.6/site-packages/sklearn/linear_model/logistic.py:947: ConvergenceWarning: lbfgs failed to converge. Increase the number of iterations.\n",
      "  \"of iterations.\", ConvergenceWarning)\n"
     ]
    }
   ],
   "source": [
    "PENALTY = ['l2']\n",
    "SOLVER = ['liblinear', 'lbfgs']\n",
    "C = [0.1, 1, 10]\n",
    "train_acc = []\n",
    "train_precision = []\n",
    "train_recall = []\n",
    "train_f1 = []\n",
    "valid_acc = []\n",
    "valid_precision = []\n",
    "valid_recall = []\n",
    "valid_f1 = []\n",
    "test_acc = []\n",
    "test_precision = []\n",
    "test_recall = []\n",
    "test_f1 = []\n",
    "\n",
    "for penalty in PENALTY:\n",
    "    for solver in SOLVER:\n",
    "        for c in C:\n",
    "            clf = LogisticRegression(penalty=penalty, C=c, solver=solver)\n",
    "            clf.fit(X_train, y_train)\n",
    "            # acc\n",
    "            t1 = clf.score(X_train, y_train)\n",
    "            t2 = clf.score(X_valid, y_valid)\n",
    "            t3 = clf.score(X_test, y_test)\n",
    "            train_acc.append(t1)\n",
    "            valid_acc.append(t2)\n",
    "            test_acc.append(t3)\n",
    "            # precision and recall\n",
    "            p, r, t = precision_recall_curve(y_train, clf.predict(X_train))\n",
    "            train_precision.append(p[1])\n",
    "            train_recall.append(r[1])\n",
    "            train_f1.append(p[1] * r[1] / (p[1] + r[1]))\n",
    "\n",
    "            p, r, t = precision_recall_curve(y_valid, clf.predict(X_valid))\n",
    "            valid_precision.append(p[1])\n",
    "            valid_recall.append(r[1])\n",
    "            valid_f1.append(p[1] * r[1] / (p[1] + r[1]))\n",
    "\n",
    "            p, r, t = precision_recall_curve(y_test, clf.predict(X_test))\n",
    "            test_precision.append(p[1])\n",
    "            test_recall.append(r[1])\n",
    "            test_f1.append(p[1] * r[1] / (p[1] + r[1]))\n",
    "\n",
    "            print('LR with C:', c, ',penalty:', penalty, ',solver:', solver,' accuracy on training, validation and test dataset is: ', round(t1, 2), round(t2, 2), round(t3, 2))\n"
   ]
  },
  {
   "cell_type": "markdown",
   "metadata": {},
   "source": [
    "### Naive Bayes"
   ]
  },
  {
   "cell_type": "code",
   "execution_count": 123,
   "metadata": {
    "collapsed": true
   },
   "outputs": [],
   "source": [
    "from sklearn.naive_bayes import GaussianNB\n",
    "import numpy as np"
   ]
  },
  {
   "cell_type": "code",
   "execution_count": 139,
   "metadata": {},
   "outputs": [],
   "source": [
    "X_train_dense = [x.todense().tolist()[0] for x in X_train]\n",
    "X_valid_dense = [x.todense().tolist()[0] for x in X_valid]\n",
    "X_test_dense = [x.todense().tolist()[0] for x in X_test]"
   ]
  },
  {
   "cell_type": "code",
   "execution_count": 140,
   "metadata": {},
   "outputs": [
    {
     "data": {
      "text/plain": [
       "GaussianNB(priors=None, var_smoothing=1e-09)"
      ]
     },
     "execution_count": 140,
     "metadata": {},
     "output_type": "execute_result"
    }
   ],
   "source": [
    "clf = GaussianNB()\n",
    "clf.fit(X_train_dense, y_train)"
   ]
  },
  {
   "cell_type": "code",
   "execution_count": 141,
   "metadata": {},
   "outputs": [
    {
     "data": {
      "text/plain": [
       "0.78948404883812529"
      ]
     },
     "execution_count": 141,
     "metadata": {},
     "output_type": "execute_result"
    }
   ],
   "source": [
    "clf.score(X_valid_dense, y_valid)"
   ]
  },
  {
   "cell_type": "code",
   "execution_count": 142,
   "metadata": {},
   "outputs": [
    {
     "data": {
      "text/plain": [
       "0.79378068739770868"
      ]
     },
     "execution_count": 142,
     "metadata": {},
     "output_type": "execute_result"
    }
   ],
   "source": [
    "clf.score(X_test_dense, y_test)"
   ]
  },
  {
   "cell_type": "markdown",
   "metadata": {},
   "source": [
    "### Summarize"
   ]
  },
  {
   "cell_type": "markdown",
   "metadata": {},
   "source": [
    "总的来说，random forest，logistic regression和naive bayes运行速度较快，knn，svm运行速度较慢。rf，logistic regression和svm准确率比较高，另外三个准确率比较差"
   ]
  }
 ],
 "metadata": {
  "kernelspec": {
   "display_name": "Python 3",
   "language": "python",
   "name": "python3"
  },
  "language_info": {
   "codemirror_mode": {
    "name": "ipython",
    "version": 3
   },
   "file_extension": ".py",
   "mimetype": "text/x-python",
   "name": "python",
   "nbconvert_exporter": "python",
   "pygments_lexer": "ipython3",
   "version": "3.6.2"
  }
 },
 "nbformat": 4,
 "nbformat_minor": 2
}
